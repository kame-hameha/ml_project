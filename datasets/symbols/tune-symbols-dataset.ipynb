{
 "cells": [
  {
   "cell_type": "code",
   "execution_count": null,
   "id": "5a6bb1bd-f7ad-42b9-a5ba-1e1b72e36c42",
   "metadata": {},
   "outputs": [],
   "source": [
    "# =============================================================================\n",
    "# Created By:     Kai Metzger\n",
    "# Created School: Franz-Oberthuer-Schule Wuerzburg\n",
    "# Created Email:  metzgerkai@franz-oberthuer-schule.de\n",
    "# Created Date:   Sat April 05 09:54 UTC 2025\n",
    "# Version:        1.0.1\n",
    "# =============================================================================\n",
    "\"\"\"The Module has been build for training the symbols dataset with images + \n",
    "ground truth on a Raspberry Pi 5 with a standard USB camera. An image with a \n",
    "resolution of 640px x 480px can be recorded with the Python script \n",
    "create-symbols-dataset.py.\n",
    "The files in the dataset <symbols> should be ordered in the following\n",
    "manner:             > explanation\n",
    "- symbols      \n",
    "  - dataset1        > dataset version (dataset1 - 3 where used in the project)\n",
    "    - data          > images (.png files)\n",
    "    - gt            > ground truth (.txt files with class labels 1-4)\n",
    "\"\"\"\n",
    "\n",
    "# pip install keras-tuner --upgrade\n",
    "\n",
    "# =============================================================================\n",
    "# Import\n",
    "# =============================================================================\n",
    "import cv2\n",
    "import os\n",
    "import numpy as np\n",
    "from keras import layers, models, utils, callbacks\n",
    "import matplotlib.pyplot as plt\n",
    "import keras_tuner as kt\n",
    "import keras\n",
    "import tensorflow as tf\n",
    "\n",
    "# Enable Nvidia GPUs by un-commenting this line \n",
    "os.environ['CUDA_VISIBLE_DEVICES'] = \"0\"\n",
    "XLA_FLAGS=\"--xla_gpu_cuda_data_dir=/usr/\"\n",
    "\n",
    "# To get reproducable results with the same training setting random seed\n",
    "SEED = 42\n",
    "np.random.seed(SEED)\n",
    "keras.utils.set_random_seed = SEED\n",
    "tf.random.set_seed(SEED)\n",
    "tf.config.experimental.enable_op_determinism()"
   ]
  },
  {
   "cell_type": "code",
   "execution_count": null,
   "id": "06ff7b29-4af4-4a85-8c39-82fa4c64c92c",
   "metadata": {},
   "outputs": [],
   "source": [
    "# =============================================================================\n",
    "# Declare variables\n",
    "# =============================================================================\n",
    "img_size_x = 32\n",
    "img_size_y = 32\n",
    "img_dim = img_size_x * img_size_y\n",
    "\n",
    "# Change the following paths to your dataset path\n",
    "home_dir = os.path.expanduser(\"~\")\n",
    "dataset_for_training = \"dataset8\"\n",
    "img_dir = home_dir + \"/ml_project/datasets/symbols/\" + dataset_for_training + \"/data\"\n",
    "gt_dir = home_dir + \"/ml_project/datasets/symbols/\" + dataset_for_training + \"/gt\"\n",
    "checkpoint_filepath = home_dir + \"/ml_project/datasets/symbols/\" + dataset_for_training + \"/chpt/\"\n",
    "\n",
    "print(\"image vector size:\", img_dim)\n",
    "#print(img_dir)"
   ]
  },
  {
   "cell_type": "code",
   "execution_count": null,
   "id": "b7f55d23-ec55-4744-b3f3-f6446628f422",
   "metadata": {},
   "outputs": [],
   "source": [
    "# =============================================================================\n",
    "# Get number of data (image/label) \n",
    "# =============================================================================\n",
    "anz_data = len(os.listdir(img_dir))\n",
    "anz_data = int(anz_data)\n",
    "dataset = np.zeros((anz_data, img_size_x, img_size_y), dtype=float)\n",
    "ground_truth = np.zeros((anz_data), dtype=int)\n",
    "print(\"dataset size:\", anz_data)"
   ]
  },
  {
   "cell_type": "code",
   "execution_count": null,
   "id": "b7ee187c-6626-4702-96b7-9b63df810c7c",
   "metadata": {},
   "outputs": [],
   "source": [
    "# =============================================================================\n",
    "# Define functions\n",
    "# =============================================================================\n",
    "# Change image size and convert to grayscale images\n",
    "def pic_prep (image, x, y):\n",
    "  image = cv2.resize(image, (y,x))                # change image size\n",
    "  image = cv2.cvtColor(image, cv2.COLOR_BGR2GRAY) # convert to grayscale\n",
    "  image = image / 255                             # image normalization\n",
    "  return image\n",
    "\n",
    "# Shuffle images\n",
    "def unison_shuffle(a, b):\n",
    "    assert len(a) == len(b)\n",
    "    p = np.random.permutation(len(a))\n",
    "    return a[p], b[p]\n"
   ]
  },
  {
   "cell_type": "code",
   "execution_count": null,
   "id": "82ce2dab-c78d-482e-b431-4c4fee6925fc",
   "metadata": {},
   "outputs": [],
   "source": [
    "# =============================================================================\n",
    "# Callback for training\n",
    "# =============================================================================\n",
    "# Set verbose flag to 0 to omit loss/accuracy output per epoch\n",
    "model_checkpoint_callback = callbacks.ModelCheckpoint(\n",
    "    filepath=checkpoint_filepath + \"chpt.keras\",\n",
    "    save_weights_only=False,\n",
    "    monitor='val_accuracy',\n",
    "    mode='auto',\n",
    "    save_best_only=True,\n",
    "    verbose = 1)"
   ]
  },
  {
   "cell_type": "code",
   "execution_count": null,
   "id": "2fc8a6d1-3af3-4251-9636-0baa5c2a69a9",
   "metadata": {},
   "outputs": [],
   "source": [
    "# =============================================================================\n",
    "# Read dataset\n",
    "# =============================================================================\n",
    "for i in range(0, anz_data, 1):\n",
    "    img_name = img_dir + '/' + str(i) + '.png'      # create file names\n",
    "    image = cv2.imread(img_name)                    # read image\n",
    "    image = pic_prep(image, img_size_x, img_size_y) # prepare image\n",
    "    dataset[i,:,:] = image                          # 2d-image to 3d-array\n",
    "    \n",
    "    txt_name = gt_dir + '/' + str(i) + '.txt'       # create gt file names\n",
    "    ground_truth[i] = np.genfromtxt(txt_name, delimiter=',') "
   ]
  },
  {
   "cell_type": "code",
   "execution_count": null,
   "id": "b6068b1d-0e2d-4161-a705-1901996eb838",
   "metadata": {},
   "outputs": [],
   "source": [
    "# =============================================================================\n",
    "# Prepare dataset: train set (80%) and test set (20%)\n",
    "# =============================================================================\n",
    "print(\"shape dataset\", dataset.shape)\n",
    "#dataset = dataset.reshape(anz_data, img_dim) # convert into 2d array (all pixel in one row)\n",
    "#print(\"shape dataset\", dataset.shape)\n",
    "#ground_truth = ground_truth.reshape(anz_data, 1)\n",
    "\n",
    "dataset, ground_truth = unison_shuffle(dataset, ground_truth)\n",
    "\n",
    "trainset = np.random.choice(dataset.shape[0],\n",
    "                            int(dataset.shape[0]*0.80), \n",
    "                            replace=False)\n",
    "train_data = dataset[trainset,:]\n",
    "train_gt = ground_truth[trainset]\n",
    "#train_gt = utils.to_categorical(train_gt, 4)\n",
    "\n",
    "testset = np.delete(np.arange(0, len(ground_truth) ), \n",
    "                    trainset) \n",
    "test_data = dataset[testset,:]\n",
    "test_gt = ground_truth[testset]\n",
    "#test_gt = utils.to_categorical(test_gt, 4)\n",
    "\n",
    "print(ground_truth.shape)\n",
    "print(dataset.shape)\n",
    "\n",
    "print(trainset.shape)\n",
    "print(train_data.shape)\n",
    "print(train_gt.shape)"
   ]
  },
  {
   "cell_type": "code",
   "execution_count": null,
   "id": "9a841dcc-75e7-487f-bd1e-856f2f57e173",
   "metadata": {},
   "outputs": [],
   "source": [
    "# =============================================================================\n",
    "# Create neural network with 4 layers and (in=32x32, 32-512, out=4) neurons per layer.\n",
    "# =============================================================================\n",
    "def model_builder(hp):\n",
    "\n",
    "  model = keras.Sequential()\n",
    "  model.add(keras.layers.Flatten(input_shape=(32, 32)))\n",
    "\n",
    "  # Tune the number of units in the first Dense layer\n",
    "  # Choose an optimal value between 32-512\n",
    "  hp_units = hp.Int('neurons1', min_value=32, max_value=512, step=32)\n",
    "  model.add(keras.layers.Dense(units=hp_units, activation='relu'))\n",
    "\n",
    "  model.add(keras.layers.Dense(4))\n",
    "\n",
    "  # Tune the learning rate for the optimizer\n",
    "  # Choose an optimal value from 0.01, 0.001, or 0.0001\n",
    "  hp_learning_rate = hp.Choice('learning_rate', values=[1e-2, 1e-3, 1e-4])\n",
    "\n",
    "  model.compile(optimizer=keras.optimizers.Adam(learning_rate=hp_learning_rate),\n",
    "                loss=keras.losses.SparseCategoricalCrossentropy(from_logits=True),\n",
    "                metrics=['accuracy'])\n",
    "\n",
    "  return model\n"
   ]
  },
  {
   "cell_type": "markdown",
   "id": "17bb39c1",
   "metadata": {},
   "source": [
    "## Keras Tuner\n",
    "\n",
    "From: https://www.tensorflow.org/tutorials/keras/keras_tuner"
   ]
  },
  {
   "cell_type": "code",
   "execution_count": null,
   "id": "5576a5d8",
   "metadata": {},
   "outputs": [],
   "source": [
    "tuner = kt.Hyperband(model_builder,\n",
    "                     objective='val_accuracy',\n",
    "                     max_epochs=10,\n",
    "                     factor=3,\n",
    "                     directory='symbols_tuning',\n",
    "                     project_name='symbols_tuning')\n"
   ]
  },
  {
   "cell_type": "markdown",
   "id": "78fad44c",
   "metadata": {},
   "source": [
    "## Early stopping:\n",
    "\n",
    "Create a callback to stop training early after reaching a certain value for the validation loss."
   ]
  },
  {
   "cell_type": "code",
   "execution_count": null,
   "id": "776f431f",
   "metadata": {},
   "outputs": [],
   "source": [
    "stop_early = tf.keras.callbacks.EarlyStopping(monitor='val_loss', patience=5)\n"
   ]
  },
  {
   "cell_type": "markdown",
   "id": "26d75ad5",
   "metadata": {},
   "source": [
    "## Hyperparameter search\n",
    "Run the hyperparameter search. The arguments for the search method are the same as those used for tf.keras.model.fit in addition to the callback above.\n"
   ]
  },
  {
   "cell_type": "code",
   "execution_count": null,
   "id": "33e05e4d",
   "metadata": {},
   "outputs": [],
   "source": [
    "tuner.search(train_data, train_gt, epochs=200, validation_split=0.2, callbacks=[stop_early])\n",
    "\n",
    "# Get the optimal hyperparameters\n",
    "best_hps=tuner.get_best_hyperparameters(num_trials=1)[0]\n",
    "\n",
    "print(f\"\"\"\n",
    "The hyperparameter search is complete. The optimal number of neurons in the first densely-connected\n",
    "layer is {best_hps.get('neurons1')} and the optimal learning rate for the optimizer\n",
    "is {best_hps.get('learning_rate')}.\n",
    "\"\"\")\n"
   ]
  },
  {
   "cell_type": "markdown",
   "id": "b28b2dfc",
   "metadata": {},
   "source": [
    "## Train the model\n",
    "Find the optimal number of epochs to train the model with the hyperparameters obtained from the search.\n"
   ]
  },
  {
   "cell_type": "code",
   "execution_count": null,
   "id": "c5a5dee6",
   "metadata": {},
   "outputs": [],
   "source": [
    "# Build the model with the optimal hyperparameters and train it on the data for 200 epochs\n",
    "model = tuner.hypermodel.build(best_hps)\n",
    "history = model.fit(train_data, train_gt, epochs=200, validation_split=0.2)\n",
    "\n",
    "val_acc_per_epoch = history.history['val_accuracy']\n",
    "best_epoch = val_acc_per_epoch.index(max(val_acc_per_epoch)) + 1\n",
    "print('Best epoch: %d' % (best_epoch,))\n"
   ]
  },
  {
   "cell_type": "markdown",
   "id": "d41b5bac",
   "metadata": {},
   "source": [
    "## Train again :-)\n",
    "Re-instantiate the hypermodel and train it with the optimal number of epochs from above.\n",
    "\n"
   ]
  },
  {
   "cell_type": "code",
   "execution_count": null,
   "id": "c80f8c91",
   "metadata": {},
   "outputs": [],
   "source": [
    "hypermodel = tuner.hypermodel.build(best_hps)\n",
    "\n",
    "# Retrain the model\n",
    "hypermodel.fit(train_data, train_gt, epochs=best_epoch, validation_split=0.2)\n"
   ]
  },
  {
   "cell_type": "markdown",
   "id": "0b86271d",
   "metadata": {},
   "source": [
    "### To finish this tutorial, evaluate the hypermodel on the test data.\n",
    "\n"
   ]
  },
  {
   "cell_type": "code",
   "execution_count": null,
   "id": "0c8cfd65",
   "metadata": {},
   "outputs": [],
   "source": [
    "eval_result = hypermodel.evaluate(test_data, test_gt)\n",
    "print(\"[test loss, test accuracy]:\", eval_result)\n"
   ]
  },
  {
   "cell_type": "code",
   "execution_count": null,
   "id": "80ae7e7b",
   "metadata": {},
   "outputs": [],
   "source": [
    "exit()"
   ]
  },
  {
   "cell_type": "code",
   "execution_count": null,
   "id": "02f04375-7a41-42df-8433-5eb7ae2f6798",
   "metadata": {},
   "outputs": [],
   "source": [
    "# =============================================================================\n",
    "# Plot train and val accuracy.\n",
    "# =============================================================================\n",
    "\n",
    "plt.plot(history.history['accuracy'], label='accuracy')\n",
    "plt.plot(history.history['val_accuracy'], label='val_accuracy')\n",
    "plt.xlabel('Epoch')\n",
    "plt.ylabel('Accuracy')\n",
    "plt.legend(loc='lower right')\n",
    "plt.show()\n"
   ]
  },
  {
   "cell_type": "code",
   "execution_count": null,
   "id": "d19880dd-f5d1-4a7e-978d-c641adc03a94",
   "metadata": {},
   "outputs": [],
   "source": [
    "# =============================================================================\n",
    "# Plot train and val loss.\n",
    "# =============================================================================\n",
    "\n",
    "plt.plot(history.history['loss'], label='loss')\n",
    "plt.plot(history.history['val_loss'], label='val_loss')\n",
    "plt.xlabel('Epoch')\n",
    "plt.ylabel('Loss')\n",
    "plt.legend(loc='lower left')\n",
    "plt.show()"
   ]
  },
  {
   "cell_type": "code",
   "execution_count": null,
   "id": "3f2846b7-cfb6-4513-9e77-19860d3296cb",
   "metadata": {},
   "outputs": [],
   "source": [
    "# =============================================================================\n",
    "# Load pretrained dataset weights to e.g. test on new (unseen) data.\n",
    "# =============================================================================\n",
    "model.load_weights(checkpoint_filepath + \"chpt.keras\")"
   ]
  },
  {
   "cell_type": "code",
   "execution_count": null,
   "id": "e1a7e194-064b-4c7d-915d-91034e42ac0e",
   "metadata": {},
   "outputs": [],
   "source": [
    "# =============================================================================\n",
    "# Test dataset on xxx.\n",
    "# =============================================================================\n",
    "score = model.evaluate(test_data, test_gt, verbose=1)\n",
    "print('Test score:', score[0])\n",
    "print('Test accuracy:', score[1])"
   ]
  },
  {
   "cell_type": "code",
   "execution_count": null,
   "id": "c6a90aef-2bd8-4b49-91c2-b98bed33405a",
   "metadata": {},
   "outputs": [],
   "source": [
    "# =============================================================================\n",
    "# Testing on a single image.\n",
    "# =============================================================================\n",
    "data_pred = np.zeros((1, img_size_x, img_size_y), dtype=float)\n",
    "img_pred = cv2.imread(home_dir + \"/ml_project/datasets/symbols/\" + dataset_for_training + \"/data/14.png\")\n",
    "img_pred = pic_prep(img_pred, img_size_x, img_size_y)\n",
    "data_pred[0,:,:] = img_pred\n",
    "data_pred = data_pred.reshape(1,img_dim)\n",
    "result = model.predict(data_pred)\n",
    "result = np.round(result, decimals=2)\n",
    "\n",
    "print(\"Probability for classes: (cross, circle, triangle, square) in percent\", \n",
    "      result)"
   ]
  },
  {
   "cell_type": "code",
   "execution_count": null,
   "id": "93faeb92-98ef-4786-af62-d1a1898aa3ec",
   "metadata": {},
   "outputs": [],
   "source": [
    "# =============================================================================\n",
    "# Output class: \n",
    "# translate class label (0,1,2,3) to class (cross, circle, triangle, square).\n",
    "# =============================================================================\n",
    "\n",
    "max_res = 0\n",
    "res_index = 4\n",
    "for i in range(0, 4, 1):\n",
    "    if result[0,i] > max_res:\n",
    "        max_res = result[0,i]\n",
    "        res_index = i\n",
    "\n",
    "if res_index == 0:\n",
    "    print('Cross detected!')\n",
    "elif res_index == 1:\n",
    "    print('Circle detected!')\n",
    "elif res_index == 2:\n",
    "    print('Triangle detected!')\n",
    "elif res_index == 3:\n",
    "    print('Square detected!')\n",
    "elif res_index == 4:\n",
    "    print('Error!')"
   ]
  },
  {
   "cell_type": "code",
   "execution_count": null,
   "id": "a029a8d2",
   "metadata": {},
   "outputs": [],
   "source": []
  }
 ],
 "metadata": {
  "kernelspec": {
   "display_name": "ml_project_kernel",
   "language": "python",
   "name": "ml_project_kernel"
  },
  "language_info": {
   "codemirror_mode": {
    "name": "ipython",
    "version": 3
   },
   "file_extension": ".py",
   "mimetype": "text/x-python",
   "name": "python",
   "nbconvert_exporter": "python",
   "pygments_lexer": "ipython3",
   "version": "3.11.2"
  }
 },
 "nbformat": 4,
 "nbformat_minor": 5
}
