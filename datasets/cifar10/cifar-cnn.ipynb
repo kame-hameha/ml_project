{
 "cells": [
  {
   "cell_type": "code",
   "execution_count": null,
   "metadata": {},
   "outputs": [],
   "source": [
    "# https://medium.com/@esrasoylu/creating-a-cnn-model-for-image-classification-with-tensorflow-49b84be8c12a\n",
    "\n",
    "import os\n",
    "import numpy as np\n",
    "import pandas as pd\n",
    "import tensorflow as tf\n",
    "from tensorflow.keras import datasets,layers,models\n",
    "from keras.layers import Input\n",
    "import matplotlib.pyplot as plt\n",
    "\n",
    "# Enable Nvidia GPUs by un-commenting this line \n",
    "os.environ[\"CUDA_VISIBLE_DEVICES\"] = \"0\"\n",
    "#XLA_FLAGS=\"--xla_gpu_cuda_data_dir=/usr/lib/cuda/nvvm/libdevice\"\n",
    "XLA_FLAGS=\"--xla_gpu_cuda_data_dir=/home/metzgeka/tensorflow/lib/python3.12/site-packages/nvidia/cuda_nvcc\"\n",
    "#export XLA_FLAGS=--xla_gpu_cuda_data_dir=/home/metzgeka/tensorflow/lib/python3.12/site-packages/nvidia/cuda_nvcc\n",
    "\n",
    "#from tensorflow.python.client import device_lib\n",
    "#print(device_lib.list_local_devices())\n",
    "\n",
    "# To get reproducable results with the same training setting random seed\n",
    "SEED = 42\n",
    "np.random.seed(SEED)"
   ]
  },
  {
   "cell_type": "code",
   "execution_count": 2,
   "metadata": {},
   "outputs": [],
   "source": [
    "(xtrain,ytrain),(xtest,ytest)=datasets.cifar10.load_data()"
   ]
  },
  {
   "cell_type": "code",
   "execution_count": null,
   "metadata": {},
   "outputs": [],
   "source": [
    "ytest=ytest.reshape(-1,)\n",
    "ytest"
   ]
  },
  {
   "cell_type": "code",
   "execution_count": null,
   "metadata": {},
   "outputs": [],
   "source": [
    "classname=[\"airplane\",\"automobile\",\"bird\",\"cat\",\"deer\",\"dog\",\"frog\",\"horse\",\"ship\",\"truck\"]"
   ]
  },
  {
   "cell_type": "code",
   "execution_count": 5,
   "metadata": {},
   "outputs": [],
   "source": [
    "def example(x,y,index):\n",
    "    plt.figure(figsize=(15,2))\n",
    "    plt.imshow(x[index]) \n",
    "    plt.xlabel(classname[y[index]])\n",
    "\n",
    "#x: Dataset containing the images.\n",
    "#y: Dataset containing the labels. Specifies the class of each image.\n",
    "#index: Specify the index of the data point to be visualized"
   ]
  },
  {
   "cell_type": "code",
   "execution_count": null,
   "metadata": {},
   "outputs": [],
   "source": [
    "example(xtest,ytest,8)\n",
    "print(\"Dims\", xtest.shape)"
   ]
  },
  {
   "cell_type": "code",
   "execution_count": 7,
   "metadata": {},
   "outputs": [],
   "source": [
    "xtrain=xtrain/255\n",
    "xtest=xtest/255"
   ]
  },
  {
   "cell_type": "code",
   "execution_count": null,
   "metadata": {},
   "outputs": [],
   "source": [
    "model = models.Sequential([\n",
    "    Input(shape=(32,32,3)),  # InputLayer'ı buraya ekleyin\n",
    "    layers.Conv2D(filters=32, kernel_size=(3,3), activation='relu'),\n",
    "    layers.MaxPooling2D(2,2),\n",
    "    \n",
    "    layers.Conv2D(filters=64, kernel_size=(3,3), activation='relu'),\n",
    "    layers.MaxPooling2D(2,2),\n",
    "    \n",
    "    layers.Flatten(),\n",
    "    layers.Dense(64, activation=\"relu\"),\n",
    "    layers.Dense(10, activation=\"softmax\")\n",
    "])"
   ]
  },
  {
   "cell_type": "code",
   "execution_count": 9,
   "metadata": {},
   "outputs": [],
   "source": [
    "model.compile(optimizer=\"adam\",\n",
    "              loss=\"sparse_categorical_crossentropy\",\n",
    "              metrics=[\"accuracy\"])"
   ]
  },
  {
   "cell_type": "code",
   "execution_count": null,
   "metadata": {},
   "outputs": [],
   "source": [
    "history=model.fit(xtrain,\n",
    "                  ytrain,\n",
    "                  epochs=30,\n",
    "                  validation_data=(xtest,ytest))"
   ]
  },
  {
   "cell_type": "code",
   "execution_count": 11,
   "metadata": {},
   "outputs": [],
   "source": [
    "loss,acc= model.evaluate(xtest,ytest,verbose=False)"
   ]
  },
  {
   "cell_type": "code",
   "execution_count": null,
   "metadata": {},
   "outputs": [],
   "source": [
    "plt.figure(figsize=(20,5))\n",
    "plt.subplot(1,2,1)\n",
    "plt.plot(history.history['accuracy'],color = \"b\",label= \"Training Accuracy\")\n",
    "plt.plot(history.history[\"val_accuracy\"], color = \"r\", label = \"Validation Accuracy\")\n",
    "plt.legend(loc = \"lower right\")\n",
    "plt.xlabel(\"Epoch\", fontsize= 16)\n",
    "plt.ylabel(\"Accuracy\",fontsize = 16)\n",
    "plt.ylim([min(plt.ylim()),1])\n",
    "plt.title(\"Training and Test Performance Graph\", fontsize = 16)"
   ]
  },
  {
   "cell_type": "code",
   "execution_count": null,
   "metadata": {},
   "outputs": [],
   "source": [
    "plt.figure(figsize= (20,5))\n",
    "plt.subplot(1,2,2)\n",
    "plt.plot(history.history[\"loss\"],color= \"b\",label=\"Training Loss\")\n",
    "plt.plot(history.history[\"val_loss\"],color=\"r\",label=\"Validation Loss\")\n",
    "plt.legend(loc= \"upper right\")\n",
    "plt.xlabel(\"Epoch\",fontsize=16)\n",
    "plt.ylabel(\"Loss\",fontsize = 16)\n",
    "plt.ylim([0,max(plt.ylim())])\n",
    "plt.title(\"Training and Test Loss Graph\",fontsize= 16)\n",
    "plt.show()"
   ]
  },
  {
   "cell_type": "code",
   "execution_count": null,
   "metadata": {},
   "outputs": [],
   "source": [
    "ypred=model.predict(xtest)\n",
    "ypred[:3]"
   ]
  },
  {
   "cell_type": "code",
   "execution_count": null,
   "metadata": {},
   "outputs": [],
   "source": [
    "ypred1=[np.argmax(element) for element in ypred]\n",
    "ypred1[:3]"
   ]
  },
  {
   "cell_type": "code",
   "execution_count": null,
   "metadata": {},
   "outputs": [],
   "source": [
    "# True classes\n",
    "y_true = [3, 8, 8, 0]\n",
    "\n",
    "# Predicted classes\n",
    "ypred1 = [3, 8, 1, 0]\n",
    "\n",
    "# Printing the true and predicted classes\n",
    "for true, pred in zip(y_true, ypred1):\n",
    "    print(\"True Class:\", classname[true], \"\\tPredicted Class:\", classname[pred])"
   ]
  }
 ],
 "metadata": {
  "kernelspec": {
   "display_name": "tensorflow",
   "language": "python",
   "name": "python3"
  },
  "language_info": {
   "codemirror_mode": {
    "name": "ipython",
    "version": 3
   },
   "file_extension": ".py",
   "mimetype": "text/x-python",
   "name": "python",
   "nbconvert_exporter": "python",
   "pygments_lexer": "ipython3",
   "version": "3.12.3"
  }
 },
 "nbformat": 4,
 "nbformat_minor": 2
}
